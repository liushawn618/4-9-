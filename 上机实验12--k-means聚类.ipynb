{
 "cells": [
  {
   "cell_type": "markdown",
   "metadata": {},
   "source": [
    "# 任务1：自定义函数实现k-means聚类\n",
    "\n",
    "- 补全完整的K-Means算法代码\n",
    "- 在数据集data.csv上评价 K-Means 算法的聚类结果\n",
    "- 绘出质心与所属样本"
   ]
  },
  {
   "cell_type": "markdown",
   "metadata": {},
   "source": [
    "> 待补全代码"
   ]
  },
  {
   "cell_type": "code",
   "execution_count": 50,
   "metadata": {
    "execution": {
     "iopub.execute_input": "2022-05-23T12:42:12.631727Z",
     "iopub.status.busy": "2022-05-23T12:42:12.631423Z",
     "iopub.status.idle": "2022-05-23T12:42:12.635900Z",
     "shell.execute_reply": "2022-05-23T12:42:12.635113Z",
     "shell.execute_reply.started": "2022-05-23T12:42:12.631700Z"
    },
    "scrolled": true,
    "tags": []
   },
   "outputs": [],
   "source": [
    "# data = pd.read_csv('data.csv')\r\n",
    "# data = data.iloc[:,0:2]\r\n",
    "# data.shape\r\n",
    "# np.mat(np.zeros((79, 2))).shape\r\n",
    "# data.iloc[0].shape\r\n",
    "# data.iloc[0], data.iloc[1], data.iloc[0] - data.iloc[1], np.power(data.iloc[0] - data.iloc[1], 2), np.sqrt(np.power(data.iloc[0]-data.iloc[1], 2).sum())\r\n",
    "\r\n",
    "# np.mat(np.zeros((79, 2)))[:, 0] == 0\r\n",
    "# temp = np.mat(data[np.mat(np.zeros((79, 2)))[:, 0] == 0])\r\n",
    "# np.mean(temp,axis=0)\r\n",
    "\r\n",
    "# np.mat(np.array(data.iloc[0]))"
   ]
  },
  {
   "cell_type": "code",
   "execution_count": 51,
   "metadata": {
    "execution": {
     "iopub.execute_input": "2022-05-23T12:42:12.638498Z",
     "iopub.status.busy": "2022-05-23T12:42:12.637982Z",
     "iopub.status.idle": "2022-05-23T12:42:13.266760Z",
     "shell.execute_reply": "2022-05-23T12:42:13.266173Z",
     "shell.execute_reply.started": "2022-05-23T12:42:12.638468Z"
    },
    "scrolled": true,
    "tags": []
   },
   "outputs": [
    {
     "name": "stdout",
     "output_type": "stream",
     "text": [
      "最终质心：\n",
      "[[ 2.63711921  3.06283895]\n",
      " [-2.4429474   2.79575765]\n",
      " [-3.50360111 -2.93524711]\n",
      " [ 2.65664152 -2.83520929]]\n",
      "点所属簇的标签：\n",
      "[[1. 1. 1. 1. 1. 1. 1. 1. 1. 1. 1. 1. 1. 1. 1. 1. 1. 1. 1. 1. 0. 0. 0. 0.\n",
      "  0. 0. 0. 0. 0. 0. 0. 0. 0. 0. 0. 0. 0. 0. 0. 3. 3. 3. 3. 3. 3. 3. 3. 3.\n",
      "  3. 3. 3. 3. 3. 3. 3. 3. 3. 3. 3. 3. 2. 2. 2. 2. 2. 2. 2. 2. 2. 2. 2. 2.\n",
      "  2. 2. 2. 2. 2. 2. 2.]]\n"
     ]
    },
    {
     "data": {
      "image/png": "[encoded data removed]",
      "text/plain": [
       "<Figure size 432x288 with 1 Axes>"
      ]
     },
     "metadata": {
      "image/png": {
       "height": 271,
       "width": 393
      },
      "needs_background": "light"
     },
     "output_type": "display_data"
    }
   ],
   "source": [
    "import numpy as np\n",
    "\n",
    "#欧式距离计算函数\n",
    "def distEuclidean(vecA, vecB):\n",
    "    return np.sqrt(np.power(vecA-vecB, 2).sum())\n",
    "\n",
    "#随机初始化质心选择函数\n",
    "def randCent(dataArr, k):\n",
    "    n = np.shape(dataArr)[1] #获取dataArr的列，即数据维数\n",
    "    centroids = np.mat(np.zeros((k, n))) #创建初始的质心矩阵\n",
    "    for i in range(n):\n",
    "        min_ = np.min(dataArr.values[:,i])\n",
    "        max_ = np.max(dataArr.values[:,i])\n",
    "        range_ = float(max_ - min_)\n",
    "        np.random.seed(12345) #设置种子\n",
    "        centroids[:,i] = min_ + range_ * np.random.rand(k, 1)\n",
    "        # random.rand(行，列)值为[0,1)的矩阵\n",
    "    return centroids\n",
    "\n",
    "#kMeans函数\n",
    "def kMeans(dataArr, k):\n",
    "    m = dataArr.shape[0] # 获取行数 79\n",
    "    clusterAssment = np.mat(np.zeros((m, 2))) # 创建存储簇分配结果的矩阵 79×2\n",
    "    clusterChanged = True # 簇分配结果改变标志\n",
    "    centroids = randCent(dataArr, k) #创建初始质心\n",
    "    # print(centroids)\n",
    "    while clusterChanged:\n",
    "        clusterChanged = False\n",
    "\n",
    "        # 1. 遍历每个数据点，计算其与各簇中心的距离，以最近簇作为分配结果\n",
    "        for i in range(m):\n",
    "            #初始化最小距离及其索引\n",
    "            minDist = float('inf')\n",
    "            minIndex = -1\n",
    "            #循环查看距离各个质心的距离\n",
    "            for j in range(k):\n",
    "                #调用distEuclidean计算样本i到聚类中心j的距离\n",
    "                dist_ = distEuclidean(np.mat(np.array(data.iloc[i])), centroids[j])  # 注意此处计算的是与质心的距离\n",
    "                if dist_ < minDist: #当前质心为最短距离\n",
    "                    minDist = dist_\n",
    "                    minIndex = j\n",
    "            # 聚类结果变化，继续聚类\n",
    "            if clusterAssment[i,0] != minIndex:\n",
    "                clusterChanged = True\n",
    "            #更新变化的聚类结果和平方差\n",
    "            clusterAssment[i,:] = minIndex, minDist**2\n",
    "            \n",
    "        # 2. 重新计算各簇的中心\n",
    "        for cent in range(k):\n",
    "            temp_ = np.array(dataArr[clusterAssment[:, 0] == cent])  # 通过布尔索引取出类中心为cent的所有data\n",
    "            centroids[cent, :] = np.mean(temp_,axis=0)\n",
    "\n",
    "    return centroids, clusterAssment\n",
    "\n",
    "#画图函数\n",
    "import pandas as pd\n",
    "import matplotlib.pyplot as plt\n",
    "import seaborn as sns # 导入seaborn包\n",
    "sns.set_context(\"notebook\",font_scale=1.3) # notebook格式，放大横纵坐标标记\n",
    "sns.set_palette('Set2') # 配色使用Set2  \n",
    "data = pd.read_csv('data.csv')\n",
    "data = data.iloc[:,0:2]\n",
    "#print(data)\n",
    "%matplotlib inline \n",
    "%config InlineBackend.figure_format = 'retina' # retina高清显示\n",
    "def plotResult(data, k):\n",
    "    np.random.seed(6)\n",
    "    centroids,clusterAssment = kMeans(data, k)\n",
    "    print(\"最终质心：\")\n",
    "    print(centroids)\n",
    "    print(\"点所属簇的标签：\")\n",
    "    print(clusterAssment[:, 0].T)\n",
    "    rect=[0.1, 0.1, 0.8, 0.8]\n",
    "    fig = plt.figure()\n",
    "    markers = ['s', 'o', '^', 'd']\n",
    "    ax = fig.add_axes(rect)\n",
    "    for cent in range(4):\n",
    "        # 簇内数据矩阵和簇中心\n",
    "        ptsInCluster = data.values[np.nonzero(clusterAssment[:, 0].A==cent)[0]]\n",
    "        ax.scatter(ptsInCluster[:, 0], \n",
    "                   ptsInCluster[:, 1],\n",
    "                   marker=markers[cent],\n",
    "                   s=45)\n",
    "\n",
    "    ax.scatter(centroids[:, 0].flatten().A[0], \n",
    "               centroids[:, 1].flatten().A[0], \n",
    "               marker='+',\n",
    "               s=100,\n",
    "               c='k')\n",
    "\n",
    "#画图\n",
    "plotResult(data, 4)"
   ]
  },
  {
   "cell_type": "markdown",
   "metadata": {},
   "source": [
    "# 任务2: 调用sklearn中的kMeans\n",
    "\n",
    "- 调用sklearn中提供的kMeans算法\n",
    "- 在数据集data.csv上评价 K-Means 算法的聚类结果\n",
    "- 绘出质心与所属样本\n",
    "- 对比分析与自己实验的kmeans聚类的实验结果的差异"
   ]
  },
  {
   "cell_type": "markdown",
   "metadata": {},
   "source": [
    "> 待补全代码"
   ]
  },
  {
   "cell_type": "code",
   "execution_count": 52,
   "metadata": {
    "execution": {
     "iopub.execute_input": "2022-05-23T12:42:13.268902Z",
     "iopub.status.busy": "2022-05-23T12:42:13.268074Z",
     "iopub.status.idle": "2022-05-23T12:42:13.585269Z",
     "shell.execute_reply": "2022-05-23T12:42:13.584594Z",
     "shell.execute_reply.started": "2022-05-23T12:42:13.268872Z"
    },
    "scrolled": true,
    "tags": []
   },
   "outputs": [
    {
     "name": "stdout",
     "output_type": "stream",
     "text": [
      "最终质心：\n",
      "[[-3.34778945 -2.98727265]\n",
      " [ 2.63711921  3.06283895]\n",
      " [ 2.808842   -2.77818185]\n",
      " [-2.4429474   2.79575765]]\n",
      "点所属簇的标签：\n",
      "[3 3 3 3 3 3 3 3 3 3 3 3 3 3 3 3 3 3 3 3 1 1 1 1 1 1 1 1 1 1 1 1 1 1 1 1 1\n",
      " 1 1 2 2 2 2 2 2 2 2 2 2 2 2 2 2 2 2 2 2 2 2 0 0 0 0 0 0 0 0 0 0 0 0 0 0 0\n",
      " 0 0 0 0 0]\n"
     ]
    },
    {
     "data": {
      "image/png": "[encoded data removed]",
      "text/plain": [
       "<Figure size 432x288 with 1 Axes>"
      ]
     },
     "metadata": {
      "image/png": {
       "height": 271,
       "width": 393
      },
      "needs_background": "light"
     },
     "output_type": "display_data"
    }
   ],
   "source": [
    "from sklearn.cluster import KMeans\n",
    "import pandas as pd\n",
    "import matplotlib.pyplot as plt\n",
    "import seaborn as sns # 导入seaborn包\n",
    "\n",
    "#调用sklearn中KMeans函数\n",
    "kmeans_ = KMeans(n_clusters=4)\n",
    "#模型训练\n",
    "kmeans_.fit(data)\n",
    "\n",
    "# 画图\n",
    "sns.set_context(\"notebook\",font_scale=1.3) # notebook格式，放大横纵坐标标记\n",
    "sns.set_palette('Set2') # 配色使用Set2  \n",
    "data = pd.read_csv('data.csv')\n",
    "%matplotlib inline \n",
    "%config InlineBackend.figure_format = 'retina' # retina高清显示\n",
    "def plotResult(data, k):\n",
    "    np.random.seed(6)\n",
    "    centroids = kmeans_.cluster_centers_\n",
    "    clusterAssment = kmeans_.labels_\n",
    "    print(\"最终质心：\")\n",
    "    print(centroids)\n",
    "    print(\"点所属簇的标签：\")\n",
    "    print(clusterAssment)\n",
    "    rect=[0.1, 0.1, 0.8, 0.8]\n",
    "    fig = plt.figure()\n",
    "    markers = ['s', 'o', '^', 'd']\n",
    "    ax = fig.add_axes(rect)\n",
    "    for cent in range(4):\n",
    "        # 簇内数据矩阵和簇中心\n",
    "        ptsInCluster = data.values[np.nonzero(clusterAssment==cent)[0]]\n",
    "        ax.scatter(ptsInCluster[:, 0], \n",
    "                   ptsInCluster[:, 1],\n",
    "                   marker=markers[cent],\n",
    "                   s=45)\n",
    "\n",
    "    ax.scatter(centroids[:, 0].flatten(), \n",
    "               centroids[:, 1].flatten(), \n",
    "               marker='+',\n",
    "               s=100,\n",
    "               c='k')\n",
    "\n",
    "#画图\n",
    "plotResult(data, 4)"
   ]
  },
  {
   "cell_type": "code",
   "execution_count": 53,
   "metadata": {
    "execution": {
     "iopub.execute_input": "2022-05-23T12:42:13.586458Z",
     "iopub.status.busy": "2022-05-23T12:42:13.586277Z",
     "iopub.status.idle": "2022-05-23T12:42:13.589872Z",
     "shell.execute_reply": "2022-05-23T12:42:13.589289Z",
     "shell.execute_reply.started": "2022-05-23T12:42:13.586436Z"
    },
    "scrolled": true,
    "tags": []
   },
   "outputs": [],
   "source": [
    "# help(KMeans())\r\n",
    "# from sklearn.cluster import KMeans\r\n",
    "\r\n",
    "# x1 = np.array([1, 1])\r\n",
    "# x2 = np.array([2, 1])\r\n",
    "# x3 = np.array([4, 3])\r\n",
    "# x4 = np.array([5, 4])\r\n",
    "# temp_data = np.vstack((x1, x2, x3, x4))\r\n",
    "\r\n",
    "# temp_data = pd.DataFrame(temp_data)\r\n",
    "\r\n",
    "# kmeans_ = KMeans(n_clusters=2)\r\n",
    "# kmeans_.fit(temp_data)\r\n",
    "# centroids = kmeans_.cluster_centers_\r\n",
    "# clusterAssment = kmeans_.labels_\r\n",
    "# print(\"最终质心：\")\r\n",
    "# print(centroids)\r\n",
    "# print(\"点所属簇的标签：\")\r\n",
    "# print(clusterAssment)"
   ]
  }
 ],
 "metadata": {
  "kernelspec": {
   "display_name": "Python 3",
   "language": "python",
   "name": "py35-paddle1.2.0"
  },
  "language_info": {
   "codemirror_mode": {
    "name": "ipython",
    "version": 3
   },
   "file_extension": ".py",
   "mimetype": "text/x-python",
   "name": "python",
   "nbconvert_exporter": "python",
   "pygments_lexer": "ipython3",
   "version": "3.7.4"
  }
 },
 "nbformat": 4,
 "nbformat_minor": 4
}
