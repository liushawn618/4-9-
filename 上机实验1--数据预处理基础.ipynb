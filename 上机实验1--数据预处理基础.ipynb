{
 "cells": [
  {
   "cell_type": "markdown",
   "metadata": {},
   "source": [
    "# 机器学习数据预处理基础"
   ]
  },
  {
   "cell_type": "markdown",
   "metadata": {},
   "source": [
    "# 1. One-Hot编码"
   ]
  },
  {
   "cell_type": "markdown",
   "metadata": {},
   "source": [
    "User continent## 任务介绍\n",
    "- 使用Pandas中的value_counts()函数，查看data中的特征User continent的取值类型， 并打印输出的内容；\n",
    "- 使用pandas中的get_dummies()函数对data中的特征User continent进行One-Hot编码，参数prefix为User continent_；\n",
    "- 将编码后的结果保存在encode_uc中，并输出变量的前5行内容。"
   ]
  },
  {
   "cell_type": "markdown",
   "metadata": {},
   "source": [
    "## 预期实验结果\n",
    "\n",
    "![](https://ai-studio-static-online.cdn.bcebos.com/bac5b83fc21a435fabddd64a5ab463600c7d80dc00e44fd6ae1715ae25355db6)\n",
    "![](https://ai-studio-static-online.cdn.bcebos.com/2f183364e29348079537f8ad38d9489004d4498e9b5d483fa9432f2bae06654e)\n",
    "\n"
   ]
  },
  {
   "cell_type": "markdown",
   "metadata": {},
   "source": [
    "> 补全代码;"
   ]
  },
  {
   "cell_type": "code",
   "execution_count": 1,
   "metadata": {
    "collapsed": false,
    "execution": {
     "iopub.execute_input": "2022-09-23T11:20:35.612001Z",
     "iopub.status.busy": "2022-09-23T11:20:35.611387Z",
     "iopub.status.idle": "2022-09-23T11:20:36.134869Z",
     "shell.execute_reply": "2022-09-23T11:20:36.133789Z",
     "shell.execute_reply.started": "2022-09-23T11:20:35.611970Z"
    },
    "jupyter": {
     "outputs_hidden": false
    },
    "scrolled": true
   },
   "outputs": [
    {
     "name": "stdout",
     "output_type": "stream",
     "text": [
      "North America    296\n",
      "Europe           118\n",
      "Oceania           41\n",
      "Asia              36\n",
      "Africa             7\n",
      "South America      6\n",
      "Name: User continent, dtype: int64\n",
      "   User continent__Africa  User continent__Asia  User continent__Europe  \\\n",
      "0                       0                     0                       0   \n",
      "1                       0                     0                       0   \n",
      "2                       0                     0                       0   \n",
      "3                       0                     0                       1   \n",
      "4                       0                     0                       0   \n",
      "\n",
      "   User continent__North America  User continent__Oceania  \\\n",
      "0                              1                        0   \n",
      "1                              1                        0   \n",
      "2                              1                        0   \n",
      "3                              0                        0   \n",
      "4                              1                        0   \n",
      "\n",
      "   User continent__South America  \n",
      "0                              0  \n",
      "1                              0  \n",
      "2                              0  \n",
      "3                              0  \n",
      "4                              0  \n"
     ]
    }
   ],
   "source": [
    "import pandas as pd \n",
    "data = pd.read_csv('user_review.csv')\n",
    "# 请在下方作答 #\n",
    "print(data['User continent'].value_counts()) \n",
    "encode_uc = pd.get_dummies(data['User continent'],prefix='User continent_')\n",
    "print(encode_uc.head())\n"
   ]
  },
  {
   "cell_type": "markdown",
   "metadata": {},
   "source": [
    "# 2. 缺失值填补"
   ]
  },
  {
   "cell_type": "markdown",
   "metadata": {},
   "source": [
    "## 任务介绍\n",
    "- 使用pandas中的value_counts()函数打印输出data中的特征Traveler type的取值统计信息， 并查看其是否含有缺失值；\n",
    "- 如果存在缺失值，将特征Traveler type在其他样本中取值频数最多的值保存在变量freq_v中，并使用freq_v进行缺失值填充；\n",
    "- 再次打印输出特征Traveler type的取值统计信息。"
   ]
  },
  {
   "cell_type": "markdown",
   "metadata": {},
   "source": [
    "## 预期实验结果\n",
    "![](https://ai-studio-static-online.cdn.bcebos.com/573d921570d34dc08c44f863ee8732f8d5816c88af7b467aa8cae7a2ce188129)\n"
   ]
  },
  {
   "cell_type": "markdown",
   "metadata": {},
   "source": [
    "> 补全代码："
   ]
  },
  {
   "cell_type": "code",
   "execution_count": 2,
   "metadata": {
    "collapsed": false,
    "execution": {
     "iopub.execute_input": "2022-09-23T11:20:41.890453Z",
     "iopub.status.busy": "2022-09-23T11:20:41.889806Z",
     "iopub.status.idle": "2022-09-23T11:20:41.909936Z",
     "shell.execute_reply": "2022-09-23T11:20:41.908954Z",
     "shell.execute_reply.started": "2022-09-23T11:20:41.890412Z"
    },
    "jupyter": {
     "outputs_hidden": false
    },
    "scrolled": true,
    "tags": []
   },
   "outputs": [
    {
     "name": "stdout",
     "output_type": "stream",
     "text": [
      "Couples     214\n",
      "Families    110\n",
      "Friends      82\n",
      "Business     74\n",
      "Solo         21\n",
      "NaN           3\n",
      "Name: Traveler type, dtype: int64\n",
      "\n",
      "缺失值填充完之后：\n",
      "\n",
      "Couples     217\n",
      "Families    110\n",
      "Friends      82\n",
      "Business     74\n",
      "Solo         21\n",
      "Name: Traveler type, dtype: int64\n"
     ]
    }
   ],
   "source": [
    "import pandas as pd \n",
    "data = pd.read_csv('user_review.csv')\n",
    "\n",
    "# 请在下方作答 #\n",
    "print(data['Traveler type'].value_counts(dropna=False)) #dropna默认是True\n",
    "\n",
    "freq_v = data['Traveler type'].value_counts().index[0]  #利用value_counts()默认降序排列，用data['Traveler type'].mode()不成功\n",
    "\n",
    "### 缺失值填充\n",
    "data['Traveler type'] = data['Traveler type'].fillna(freq_v)\n",
    "\n",
    "### 打印\n",
    "print('')\n",
    "print('缺失值填充完之后：')\n",
    "print( '')\n",
    "print(data['Traveler type'].value_counts())"
   ]
  },
  {
   "cell_type": "markdown",
   "metadata": {},
   "source": [
    "# 3. 特征标准化"
   ]
  },
  {
   "cell_type": "markdown",
   "metadata": {},
   "source": [
    "## 任务1:\n",
    "- 使用sklearn中preprocessing模块下的StandardScaler()函数对data的特征Score进行Z-score标准化；\n",
    "- 将特征取值的均值保存在变量score_mean中，并打印；\n",
    "- 将特征取值的方差保存在变量score_var中，并打印。"
   ]
  },
  {
   "attachments": {
    "fa64d89b-3dc9-4b07-b27f-210b56e583ed.png": {
     "image/png": "[encoded data removed]"
    }
   },
   "cell_type": "markdown",
   "metadata": {},
   "source": [
    "## 预期实验结果\n",
    "![image.png](attachment:fa64d89b-3dc9-4b07-b27f-210b56e583ed.png)\n"
   ]
  },
  {
   "cell_type": "markdown",
   "metadata": {},
   "source": [
    "> 补全代码："
   ]
  },
  {
   "cell_type": "code",
   "execution_count": 33,
   "metadata": {
    "collapsed": false,
    "execution": {
     "iopub.execute_input": "2022-09-22T09:39:55.579851Z",
     "iopub.status.busy": "2022-09-22T09:39:55.578934Z",
     "iopub.status.idle": "2022-09-22T09:39:55.591589Z",
     "shell.execute_reply": "2022-09-22T09:39:55.590919Z",
     "shell.execute_reply.started": "2022-09-22T09:39:55.579818Z"
    },
    "jupyter": {
     "outputs_hidden": false
    },
    "scrolled": true,
    "tags": []
   },
   "outputs": [
    {
     "name": "stdout",
     "output_type": "stream",
     "text": [
      "4.793343852349882e-16\n",
      "1.0000000000000002\n"
     ]
    },
    {
     "data": {
      "text/plain": [
       "array([[ 0.87149149],\n",
       "       [-1.11598231],\n",
       "       [ 0.87149149],\n",
       "       [-0.12224541],\n",
       "       [-0.12224541]])"
      ]
     },
     "execution_count": 33,
     "metadata": {},
     "output_type": "execute_result"
    }
   ],
   "source": [
    "import pandas as pd \n",
    "from sklearn.preprocessing import StandardScaler\n",
    "data = pd.read_csv('user_review.csv')\n",
    "\n",
    "# 请在下方作答 #\n",
    "## 创建Z-score对象\n",
    "std_scaler = StandardScaler()\n",
    "\n",
    "## Score特征标准化，使用fit_transform()方法\n",
    "normal_df = std_scaler.fit_transform(data['Score'].values.reshape(-1, 1)) #\n",
    "\n",
    "## 均值\n",
    "score_mean = normal_df.mean()\n",
    "\n",
    "## 方差\n",
    "score_var = normal_df.var()\n",
    "\n",
    "## 打印\n",
    "print (score_mean)\n",
    "print (score_var)\n",
    "\n",
    "## 打印前五行内容\n",
    "normal_df[:5]"
   ]
  },
  {
   "cell_type": "markdown",
   "metadata": {},
   "source": [
    "## 任务2：\n",
    "- 自定义函数min_max()实现MinMax标准化，输入参数data为要进行标准化的数据，输出为标准化后的数据。\n",
    "- 使自定义的min_max()函数对data的特征Score进行MinMax标准化，输出结果保存在score_transformed中，并打印变量的前5行内容"
   ]
  },
  {
   "cell_type": "markdown",
   "metadata": {},
   "source": [
    "## 预期结果\n",
    "![](https://ai-studio-static-online.cdn.bcebos.com/98a830f8c5594920883029b03ae2882f516aef4a6af244ff93061ef21aa09836)\n"
   ]
  },
  {
   "cell_type": "markdown",
   "metadata": {},
   "source": [
    "> 补全代码："
   ]
  },
  {
   "cell_type": "code",
   "execution_count": 55,
   "metadata": {
    "execution": {
     "iopub.execute_input": "2022-09-22T13:59:37.045421Z",
     "iopub.status.busy": "2022-09-22T13:59:37.044879Z",
     "iopub.status.idle": "2022-09-22T13:59:37.066417Z",
     "shell.execute_reply": "2022-09-22T13:59:37.065277Z",
     "shell.execute_reply.started": "2022-09-22T13:59:37.045388Z"
    },
    "scrolled": true,
    "tags": []
   },
   "outputs": [
    {
     "data": {
      "text/html": [
       "<div>\n",
       "<style scoped>\n",
       "    .dataframe tbody tr th:only-of-type {\n",
       "        vertical-align: middle;\n",
       "    }\n",
       "\n",
       "    .dataframe tbody tr th {\n",
       "        vertical-align: top;\n",
       "    }\n",
       "\n",
       "    .dataframe thead th {\n",
       "        text-align: right;\n",
       "    }\n",
       "</style>\n",
       "<table border=\"1\" class=\"dataframe\">\n",
       "  <thead>\n",
       "    <tr style=\"text-align: right;\">\n",
       "      <th></th>\n",
       "      <th>score</th>\n",
       "    </tr>\n",
       "  </thead>\n",
       "  <tbody>\n",
       "    <tr>\n",
       "      <th>0</th>\n",
       "      <td>1.00</td>\n",
       "    </tr>\n",
       "    <tr>\n",
       "      <th>1</th>\n",
       "      <td>0.50</td>\n",
       "    </tr>\n",
       "    <tr>\n",
       "      <th>2</th>\n",
       "      <td>1.00</td>\n",
       "    </tr>\n",
       "    <tr>\n",
       "      <th>3</th>\n",
       "      <td>0.75</td>\n",
       "    </tr>\n",
       "    <tr>\n",
       "      <th>4</th>\n",
       "      <td>0.75</td>\n",
       "    </tr>\n",
       "  </tbody>\n",
       "</table>\n",
       "</div>"
      ],
      "text/plain": [
       "   score\n",
       "0   1.00\n",
       "1   0.50\n",
       "2   1.00\n",
       "3   0.75\n",
       "4   0.75"
      ]
     },
     "execution_count": 55,
     "metadata": {},
     "output_type": "execute_result"
    }
   ],
   "source": [
    "import pandas as pd \n",
    "data = pd.read_csv('user_review.csv')\n",
    "# 请在下方作答 #\n",
    "def min_max(data):\n",
    "    \n",
    "    ## 最小值\n",
    "    data_min = data.min()\n",
    "    ## 最大值\n",
    "    data_max = data.max()\n",
    "    ## 最大值与最小值之间的差值\n",
    "    data_difference = data_max-data_min\n",
    "    ## 根据MinMax标准化的定义实现\n",
    "    new_data = pd.DataFrame((data.values-data_min)/data_difference,columns=['Score'])#如何给dataframe增加列名，dataframe与ndarry,Series的区别\n",
    "    \n",
    "    ## 返回结果\n",
    "    return new_data\n",
    "\n",
    "## 调用min_max()函数\n",
    "score_transformed = min_max(data['Score'])\n",
    "## 打印变量的前5行内容\n",
    "score_transformed.head()"
   ]
  },
  {
   "cell_type": "markdown",
   "metadata": {},
   "source": [
    "## 任务3：\n",
    "- 自定义logistic()函数，输入参数为要进行标准化的数据，输出结果为经过标准化后的数据；\n",
    "- 使用自定义函数对data的特征Member years进行Logsitic标准化，结果保存在member_transformed中，并输出变量的前5行内容。"
   ]
  },
  {
   "cell_type": "markdown",
   "metadata": {},
   "source": [
    "## 预期结果：\n",
    "![](https://ai-studio-static-online.cdn.bcebos.com/22fd81b1a5614b418f88cbe90bf7f99ba6c553820c2542be80f1a90421779026)\n"
   ]
  },
  {
   "cell_type": "markdown",
   "metadata": {},
   "source": [
    "> 补全代码"
   ]
  },
  {
   "cell_type": "code",
   "execution_count": 8,
   "metadata": {
    "collapsed": false,
    "execution": {
     "iopub.execute_input": "2022-09-23T02:32:02.336215Z",
     "iopub.status.busy": "2022-09-23T02:32:02.335565Z",
     "iopub.status.idle": "2022-09-23T02:32:02.357552Z",
     "shell.execute_reply": "2022-09-23T02:32:02.356494Z",
     "shell.execute_reply.started": "2022-09-23T02:32:02.336183Z"
    },
    "jupyter": {
     "outputs_hidden": false
    },
    "scrolled": true
   },
   "outputs": [
    {
     "data": {
      "text/html": [
       "<div>\n",
       "<style scoped>\n",
       "    .dataframe tbody tr th:only-of-type {\n",
       "        vertical-align: middle;\n",
       "    }\n",
       "\n",
       "    .dataframe tbody tr th {\n",
       "        vertical-align: top;\n",
       "    }\n",
       "\n",
       "    .dataframe thead th {\n",
       "        text-align: right;\n",
       "    }\n",
       "</style>\n",
       "<table border=\"1\" class=\"dataframe\">\n",
       "  <thead>\n",
       "    <tr style=\"text-align: right;\">\n",
       "      <th></th>\n",
       "      <th>Member years</th>\n",
       "    </tr>\n",
       "  </thead>\n",
       "  <tbody>\n",
       "    <tr>\n",
       "      <th>0</th>\n",
       "      <td>0.999877</td>\n",
       "    </tr>\n",
       "    <tr>\n",
       "      <th>1</th>\n",
       "      <td>0.952574</td>\n",
       "    </tr>\n",
       "    <tr>\n",
       "      <th>2</th>\n",
       "      <td>0.880797</td>\n",
       "    </tr>\n",
       "    <tr>\n",
       "      <th>3</th>\n",
       "      <td>0.997527</td>\n",
       "    </tr>\n",
       "    <tr>\n",
       "      <th>4</th>\n",
       "      <td>0.999089</td>\n",
       "    </tr>\n",
       "  </tbody>\n",
       "</table>\n",
       "</div>"
      ],
      "text/plain": [
       "   Member years\n",
       "0      0.999877\n",
       "1      0.952574\n",
       "2      0.880797\n",
       "3      0.997527\n",
       "4      0.999089"
      ]
     },
     "execution_count": 8,
     "metadata": {},
     "output_type": "execute_result"
    }
   ],
   "source": [
    "import pandas as pd \n",
    "data = pd.read_csv('user_review.csv')\n",
    "# 请在下方作答 #\n",
    "def logistic(data):\n",
    "    \n",
    "    import numpy as np\n",
    "    import warnings\n",
    "    warnings.filterwarnings(\"ignore\")\n",
    "    \n",
    "    ## 计算 1 + e^(-x)\n",
    "    denominator = 1+np.exp(-data) #np别忘记\n",
    "    \n",
    "    ## 实现logistic标准化\n",
    "    new_data = pd.DataFrame(1/denominator,columns=['Member years'])\n",
    "    ## 返回结果\n",
    "    return new_data\n",
    "\n",
    "## 对特征Member years进行logsitic标准化\n",
    "member_transformed = logistic(data['Member years'])\n",
    "## 打印内容\n",
    "member_transformed.head()"
   ]
  },
  {
   "cell_type": "markdown",
   "metadata": {},
   "source": [
    "# 4. 特征离散化"
   ]
  },
  {
   "cell_type": "markdown",
   "metadata": {},
   "source": [
    "Member years## 任务介绍\n",
    "- 使用Pandas的qcut()函数对data中的特征Member years进行等频离散化，结果保存在bins中；\n",
    "- 使用pd.value_counts()函数统计categorical对象bins的取值信息。"
   ]
  },
  {
   "cell_type": "markdown",
   "metadata": {},
   "source": [
    "## 预期结果\n",
    "![](https://ai-studio-static-online.cdn.bcebos.com/a4729a315ee6483687f3a819d01d905b025fa5f90da04f3e893a7a80ce5e5107)\n"
   ]
  },
  {
   "cell_type": "markdown",
   "metadata": {},
   "source": [
    "> 补全代码："
   ]
  },
  {
   "cell_type": "code",
   "execution_count": 27,
   "metadata": {
    "collapsed": false,
    "execution": {
     "iopub.execute_input": "2022-09-23T02:43:32.578499Z",
     "iopub.status.busy": "2022-09-23T02:43:32.577274Z",
     "iopub.status.idle": "2022-09-23T02:43:32.594933Z",
     "shell.execute_reply": "2022-09-23T02:43:32.594046Z",
     "shell.execute_reply.started": "2022-09-23T02:43:32.578464Z"
    },
    "jupyter": {
     "outputs_hidden": false
    },
    "scrolled": true
   },
   "outputs": [
    {
     "data": {
      "text/plain": [
       "(-1806.001, 2.0]    156\n",
       "(6.0, 13.0]         124\n",
       "(2.0, 4.0]          123\n",
       "(4.0, 6.0]          101\n",
       "Name: Member years, dtype: int64"
      ]
     },
     "execution_count": 27,
     "metadata": {},
     "output_type": "execute_result"
    }
   ],
   "source": [
    "import pandas as pd \n",
    "data = pd.read_csv('user_review.csv')\n",
    "# 请在下方作答 #\n",
    "import pandas as pd \n",
    "\n",
    "## 返回bins\n",
    "bins = pd.qcut(data['Member years'],q=4) #此处不能加retbins=True，否则TypeError: 'Series' objects are mutable, thus they cannot be hashed,等频吗\n",
    "\n",
    "## 统计取值信息\n",
    "pd.value_counts(bins)"
   ]
  },
  {
   "cell_type": "markdown",
   "metadata": {},
   "source": [
    "# 5. 离群值检测"
   ]
  },
  {
   "cell_type": "markdown",
   "metadata": {},
   "source": [
    "## 任务介绍\n",
    "- 使用拉依达准则对data的特征Member years进行离群值检测；\n",
    "- 如果存在离群值，输出离群值的个数outlier_num，并将包含离群值的数据记录保存在变量outeliers中，并打印变量内容。"
   ]
  },
  {
   "cell_type": "markdown",
   "metadata": {},
   "source": [
    "## 预期结果\n",
    "![](https://ai-studio-static-online.cdn.bcebos.com/40e316267fc542339a74291e8438e340109ece96fc2a439591b75414e12085d2)\n"
   ]
  },
  {
   "cell_type": "markdown",
   "metadata": {},
   "source": [
    "> 补全代码："
   ]
  },
  {
   "cell_type": "code",
   "execution_count": 16,
   "metadata": {
    "collapsed": false,
    "execution": {
     "iopub.execute_input": "2022-09-23T10:56:32.991038Z",
     "iopub.status.busy": "2022-09-23T10:56:32.990377Z",
     "iopub.status.idle": "2022-09-23T10:56:33.025196Z",
     "shell.execute_reply": "2022-09-23T10:56:33.024428Z",
     "shell.execute_reply.started": "2022-09-23T10:56:32.991006Z"
    },
    "jupyter": {
     "outputs_hidden": false
    },
    "scrolled": true,
    "tags": []
   },
   "outputs": [
    {
     "data": {
      "text/html": [
       "<div>\n",
       "<style scoped>\n",
       "    .dataframe tbody tr th:only-of-type {\n",
       "        vertical-align: middle;\n",
       "    }\n",
       "\n",
       "    .dataframe tbody tr th {\n",
       "        vertical-align: top;\n",
       "    }\n",
       "\n",
       "    .dataframe thead th {\n",
       "        text-align: right;\n",
       "    }\n",
       "</style>\n",
       "<table border=\"1\" class=\"dataframe\">\n",
       "  <thead>\n",
       "    <tr style=\"text-align: right;\">\n",
       "      <th></th>\n",
       "      <th>User country</th>\n",
       "      <th>User continent</th>\n",
       "      <th>Member years</th>\n",
       "      <th>Traveler type</th>\n",
       "      <th>Hotel name</th>\n",
       "      <th>Hotel stars</th>\n",
       "      <th>Nr. rooms</th>\n",
       "      <th>Score</th>\n",
       "    </tr>\n",
       "  </thead>\n",
       "  <tbody>\n",
       "    <tr>\n",
       "      <th>75</th>\n",
       "      <td>USA</td>\n",
       "      <td>North America</td>\n",
       "      <td>-1806</td>\n",
       "      <td>Solo</td>\n",
       "      <td>Treasure Island- TI Hotel &amp; Casino</td>\n",
       "      <td>4.0</td>\n",
       "      <td>2884</td>\n",
       "      <td>5</td>\n",
       "    </tr>\n",
       "  </tbody>\n",
       "</table>\n",
       "</div>"
      ],
      "text/plain": [
       "   User country User continent  Member years  ... Hotel stars Nr. rooms  Score\n",
       "75          USA  North America         -1806  ...         4.0      2884      5\n",
       "\n",
       "[1 rows x 8 columns]"
      ]
     },
     "execution_count": 16,
     "metadata": {},
     "output_type": "execute_result"
    }
   ],
   "source": [
    "import pandas as pd \n",
    "import numpy as np\n",
    "data = pd.read_csv('user_review.csv')\n",
    "member_data = data[['Member years']]\n",
    "\n",
    "# 请在下方作答 #\n",
    "## Z-score标准化\n",
    "new_data =(member_data-member_data.mean())/member_data.std()\n",
    "\n",
    "## 写出过滤条件\n",
    "outlier_judge = 3\n",
    "## 统计离群值的个数\n",
    "outlier_num = new_data['Member years'][new_data['Member years'].abs() > outlier_judge].count()\n",
    "\n",
    "## 包含离群值的数据样本记录\n",
    "outliers = data[new_data['Member years'].abs() > outlier_judge]\n",
    "\n",
    "\n",
    "## 打印\n",
    "outliers"
   ]
  },
  {
   "cell_type": "code",
   "execution_count": null,
   "metadata": {
    "scrolled": true
   },
   "outputs": [],
   "source": []
  },
  {
   "cell_type": "code",
   "execution_count": null,
   "metadata": {
    "scrolled": true
   },
   "outputs": [],
   "source": []
  },
  {
   "cell_type": "code",
   "execution_count": null,
   "metadata": {
    "scrolled": true
   },
   "outputs": [],
   "source": []
  }
 ],
 "metadata": {
  "kernelspec": {
   "display_name": "Python 3",
   "language": "python",
   "name": "py35-paddle1.2.0"
  },
  "language_info": {
   "codemirror_mode": {
    "name": "ipython",
    "version": 3
   },
   "file_extension": ".py",
   "mimetype": "text/x-python",
   "name": "python",
   "nbconvert_exporter": "python",
   "pygments_lexer": "ipython3",
   "version": "3.7.4"
  }
 },
 "nbformat": 4,
 "nbformat_minor": 4
}
